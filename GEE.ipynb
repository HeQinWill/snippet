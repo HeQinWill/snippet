{
  "cells": [
    {
      "cell_type": "markdown",
      "metadata": {
        "id": "BaUtMPEVGw6F",
        "colab_type": "text"
      },
      "source": [
        "## 准备 GEE 环境"
      ]
    },
    {
      "cell_type": "code",
      "metadata": {
        "id": "xZJs0Vlt_k45",
        "colab_type": "code",
        "colab": {}
      },
      "source": [
        "#%% 设置本机代理，根据自己电脑 FQ 的代理来填写，若使用 Colab 则不需要\n",
        "import os\n",
        "os.environ['http_proxy'] = \"http://127.0.0.1:1087\"\n",
        "os.environ['https_proxy'] = \"https://127.0.0.1:1087\""
      ],
      "execution_count": 0,
      "outputs": []
    },
    {
      "cell_type": "code",
      "metadata": {
        "id": "Im9RHTeC9hGh",
        "colab_type": "code",
        "colab": {}
      },
      "source": [
        "#%% 初始化 Google Earth Engine\n",
        "import ee\n",
        "# ee.Authenticate() # 在 Colab 上初次使用的话需配置此项\n",
        "ee.Initialize()"
      ],
      "execution_count": 0,
      "outputs": []
    },
    {
      "cell_type": "markdown",
      "metadata": {
        "id": "DNsJuGpCGzh0",
        "colab_type": "text"
      },
      "source": [
        "## 配置需要请求的数据集"
      ]
    },
    {
      "cell_type": "code",
      "metadata": {
        "id": "mEARsH4G9ZXn",
        "colab_type": "code",
        "colab": {}
      },
      "source": [
        "#%% 构造 TROPOMI 数据集请求\n",
        "#\n",
        "#\n",
        "class getTROPOMI(object):\n",
        "    def __init__(self, startDate, endDate):\n",
        "        # startDate 是闭区间 '2020-02-01'\n",
        "        # endDate 是开区间 '2020-02-03'\n",
        "        # 取到的是 2 月 1 日和 2 日的数据\n",
        "        self.sD = startDate\n",
        "        self.eD = endDate\n",
        "\n",
        "    def NO2_offl(self):\n",
        "        collection = ee.ImageCollection('COPERNICUS/S5P/OFFL/L3_NO2')\\\n",
        "            .select('tropospheric_NO2_column_number_density')\\\n",
        "            .filterDate(self.sD, self.eD)\n",
        "        return collection\n",
        "\n",
        "    def SO2_offl(self):\n",
        "        collection = ee.ImageCollection('COPERNICUS/S5P/OFFL/L3_SO2')\\\n",
        "            .select('SO2_column_number_density')\\\n",
        "            .filterDate(self.sD, self.eD)\n",
        "        return collection\n",
        "\n",
        "    def CH4_offl(self):\n",
        "        collection = ee.ImageCollection('COPERNICUS/S5P/OFFL/L3_CH4')\\\n",
        "            .select('CH4_column_volume_mixing_ratio_dry_air')\\\n",
        "            .filterDate(self.sD, self.eD)\n",
        "        return collection"
      ],
      "execution_count": 0,
      "outputs": []
    },
    {
      "cell_type": "code",
      "metadata": {
        "id": "qj5-xbOjEACc",
        "colab_type": "code",
        "colab": {}
      },
      "source": [
        "#%% 构造 MODIS 数据集请求\n",
        "#\n",
        "#\n",
        "class getMODIS(object):\n",
        "    def __init__(self, startDate, endDate, type):\n",
        "        # startDate 是闭区间 '2020-02-01'\n",
        "        # endDate 是开区间 '2020-02-03'\n",
        "        # 取到的是 2 月 1 日和 2 日的数据\n",
        "        self.sD = startDate\n",
        "        self.eD = endDate\n",
        "        self.type = type\n",
        "\n",
        "    def qa_MAIAC(self): # <<<<<<<<<<<<<<<<<<<<<<<<<<<<<<<<<<<这里还没有修改\n",
        "        collection = ee.ImageCollection('MODIS/006/MCD19A2_GRANULES')\\\n",
        "            .select('AOD_QA')\\\n",
        "            .filterDate(self.sD, self.eD)\n",
        "        return collection\n",
        "\n",
        "    def MAIAC(self): # 这里用的是 aod550，可以更改\n",
        "        collection = ee.ImageCollection('MODIS/006/MCD19A2_GRANULES')\\\n",
        "            .select('Optical_Depth_055')\\\n",
        "            .filterDate(self.sD, self.eD)\n",
        "        return collection\n",
        "\n",
        "    def qa_vi(self,image):\n",
        "        qa = image.select('SummaryQA')\n",
        "        mask = qa.eq(0) # 这里只做了最严格的筛选\n",
        "        bands = image.select(['NDVI','EVI'])\n",
        "        return bands.updateMask(mask)\n",
        "\n",
        "    def VI(self):\n",
        "        if self.type == 'aqua':\n",
        "            VI_name = 'MODIS/006/MYD13Q1'\n",
        "        if self.type == 'terra':\n",
        "            VI_name = 'MODIS/006/MOD13Q1'\n",
        "\n",
        "        collection = ee.ImageCollection(VI_name)\\\n",
        "                       .filterDate(self.sD, self.eD)\n",
        "        return collection.map(self.qa_vi)\n",
        "    \n",
        "    def qa_lst(self,image):\n",
        "        qa_day = image.select('QC_Day')\n",
        "        qa_night = image.select('QC_Night')\n",
        "        mask_day = qa_day.eq(0)\n",
        "        mask_night = qa_night.eq(0)\n",
        "        band_day = image.select('LST_Day_1km').updateMask(mask_day)\n",
        "        band_night = image.select('LST_Night_1km').updateMask(mask_night)\n",
        "        return ee.Image.cat([band_day, band_night])\n",
        "\n",
        "    def LST(self):\n",
        "        if self.type == 'aqua':\n",
        "            LST_name = 'MODIS/006/MYD11A1' # MYD11A2\n",
        "        if self.type == 'terra':\n",
        "            LST_name = 'MODIS/006/MOD11A1' # MOD11A2\n",
        "        collection = ee.ImageCollection(LST_name)\\\n",
        "                    .filterDate(self.sD, self.eD)\n",
        "        return collection.map(self.qa_lst)"
      ],
      "execution_count": 0,
      "outputs": []
    },
    {
      "cell_type": "code",
      "metadata": {
        "id": "OPfYV4p-D6au",
        "colab_type": "code",
        "colab": {}
      },
      "source": [
        "#%% 构造影像请求\n",
        "def get_ImageURL(collection,name,region,scale=1113.1949079327358,method='mean'):\n",
        "    # collection 数据集\n",
        "    # name 压缩包里面文件的名字\n",
        "    # region 需要下载的区域\n",
        "    # scale 分辨率（以米为单位）默认换算下来为0.01°\n",
        "    # method 默认为均值 mean，也可改为获取数据集的第首个影像 first\n",
        "    image = collection.mean()\n",
        "    if method == 'first':\n",
        "        image = collection.first()\n",
        "    if method == 'stdev':\n",
        "        image = collection.reduce(ee.Reducer.stdDev())\n",
        "    url = image.getDownloadURL({'name':name,'region':region,'scale':scale})\n",
        "    return url"
      ],
      "execution_count": 0,
      "outputs": []
    },
    {
      "cell_type": "markdown",
      "metadata": {
        "id": "gKAMaA_3G7ws",
        "colab_type": "text"
      },
      "source": [
        "## 配置返回的数据空间范围和时间范围"
      ]
    },
    {
      "cell_type": "code",
      "metadata": {
        "id": "Xc6uriBC-7wY",
        "colab_type": "code",
        "colab": {}
      },
      "source": [
        "#  框选地理范围\n",
        "roi = ee.Geometry.Polygon(\n",
        "        [[[106.1, 37],\n",
        "          [107, 37],\n",
        "          [107, 38.8],\n",
        "          [106.1, 38.8]]])\n",
        "roiGeo = ee.Geometry(roi).toGeoJSONString()"
      ],
      "execution_count": 0,
      "outputs": []
    },
    {
      "cell_type": "code",
      "metadata": {
        "id": "Clu4vnKK_APy",
        "colab_type": "code",
        "colab": {}
      },
      "source": [
        "# %%\n",
        "import pandas as pd\n",
        "from datetime import datetime\n",
        "#  选择日期范围\n",
        "# dateRange = pd.date_range('2018-12-31','2019-12-31',freq='Y')+ pd.DateOffset(days=1) #逐年\n",
        "# dateRange = pd.date_range('2018-11-30','2019-12-01',freq='M')+ pd.DateOffset(days=1) #逐月\n",
        "dateRange = pd.date_range('2018-11-30','2020-04-01',freq='3M')+ pd.DateOffset(days=1)# 逐季\n",
        "# dateRange = pd.date_range('2018-07-01','2020-03-01') # 逐日\n",
        "dateList = [datetime.strftime(d,\"%Y-%m-%d\") for d in dateR\n",
        "\n",
        "# dateList = ['2019-03-01','2020-03-01','2020-05-01'] #自定义时间范围ange]"
      ],
      "execution_count": 0,
      "outputs": []
    },
    {
      "cell_type": "markdown",
      "metadata": {
        "id": "5RMt53gAHGfi",
        "colab_type": "text"
      },
      "source": [
        "## 请求影像地址并下载\n",
        "根据要下载的类型获取数据集->影像下载链接->下载解压"
      ]
    },
    {
      "cell_type": "code",
      "metadata": {
        "id": "tDedKR07HF7B",
        "colab_type": "code",
        "colab": {}
      },
      "source": [
        "for i in range(len(dateList)-1):\n",
        "    sD = dateList[i] # 开始时间\n",
        "    eD = dateList[i+1] # 结束时间\n",
        "    # #%% 开始和结束时间格式如下\n",
        "    # sD = '2019-01-01'\n",
        "    # eD = '2019-01-02'\n",
        "    print(sD,eD)\n",
        "\n",
        "    #  构造实例\n",
        "    g = getMODIS(sD,eD,'aqua') # <<<<<<<<<<<<<<<<<<<<<<<<<<<注意选择传感器对应数据集\n",
        "    get = g.LST() # <<<<<<<<<<<<<<<<<<<<<<<<<<<<<<<<<<<<<<<<<<<<<注意选择需要的参数\n",
        "    url = get_ImageURL(get,name=sD.split('-')[0],region=roiGeo,scale=250,method='mean')#<<<<<<<<注意选择合适的文件名\n",
        "    !wget {url} -O ./tmp.zip && unzip tmp.zip -d ./"
      ],
      "execution_count": 0,
      "outputs": []
    },
    {
      "cell_type": "markdown",
      "metadata": {
        "id": "g0Vg2yUUuGGz",
        "colab_type": "text"
      },
      "source": [
        "TROPOMI"
      ]
    },
    {
      "cell_type": "code",
      "metadata": {
        "id": "DLJl1AR8uDWO",
        "colab_type": "code",
        "colab": {}
      },
      "source": [
        "for i in range(len(dateList)-1):\n",
        "    sD = dateList[i] # 开始时间\n",
        "    eD = dateList[i+1] # 结束时间\n",
        "    # #%% 开始和结束时间格式如下\n",
        "    # sD = '2019-01-01'\n",
        "    # eD = '2019-01-02'\n",
        "    print(sD,eD)\n",
        "\n",
        "    #  构造实例\n",
        "    g = getTROPOMI(sD,eD) # <<<<<<<<<<<<<<<<<<<<<<<<<<<注意选择传感器对应数据集\n",
        "    get = g.NO2_offl() # <<<<<<<<<<<<<<<<<<<<<<<<<<<<<<<<<<<<<<<<<<<<<注意选择需要的参数\n",
        "    url = get_ImageURL(get,name=sD.replace('-',''),region=roiGeo,method='mean')#<<<<<<<<注意选择合适的文件名\n",
        "    !wget {url} -O ./tmp.zip && unzip tmp.zip -d ./"
      ],
      "execution_count": 0,
      "outputs": []
    },
    {
      "cell_type": "markdown",
      "metadata": {
        "id": "xRJIwtqM_4qe",
        "colab_type": "text"
      },
      "source": [
        "## 处理生成的 tif 文件"
      ]
    },
    {
      "cell_type": "markdown",
      "metadata": {},
      "source": [
        "重新改为使用 rioxarray 来转换数据"
      ]
    },
    {
      "cell_type": "code",
      "execution_count": null,
      "metadata": {},
      "outputs": [],
      "source": [
        "!pip install rioxarray"
      ]
    },
    {
      "cell_type": "code",
      "execution_count": null,
      "metadata": {},
      "outputs": [],
      "source": [
        "import rioxarray\n",
        "xds = rioxarray.open_rasterio(\n",
        "    \"/content/20190301.CH4_column_volume_mixing_ratio_dry_air.tif\",\n",
        "    masked=True,\n",
        "    # chunks=True,\n",
        ")\n",
        "\n",
        "xds = xds.where(xds>0,drop=True) # CH4\n",
        "\n",
        "xds.plot()\n",
        "xds.to_netcdf('20190301.nc')"
      ]
    },
    {
      "cell_type": "markdown",
      "metadata": {
        "id": "HJN_AOFr_9Vf",
        "colab_type": "text"
      },
      "source": [
        "需要安装 rasterio 库"
      ]
    },
    {
      "cell_type": "code",
      "metadata": {
        "id": "Ub1O1vGn-GYB",
        "colab_type": "code",
        "colab": {}
      },
      "source": [
        "!pip install rasterio"
      ],
      "execution_count": 0,
      "outputs": []
    },
    {
      "cell_type": "markdown",
      "metadata": {
        "id": "H8agJ3OXHRoD",
        "colab_type": "text"
      },
      "source": [
        "### 根据类型选择要处理的文件"
      ]
    },
    {
      "cell_type": "code",
      "metadata": {
        "id": "YemsxE3J-xj5",
        "colab_type": "code",
        "colab": {}
      },
      "source": [
        "import rasterio\n",
        "import xarray as xr\n",
        "import numpy as np\n",
        "import pandas as pd\n",
        "from pathlib import Path\n",
        "\n",
        "feature = 'NO2' # <<<<<<<<<<<<<<<<<<<<<<<<<<<<<<<<<<<<<<<<<<<<<<<<<<<注意选择\n",
        "\n",
        "# 获取 feature 的所有 tif 文件\n",
        "filePath = Path('./')\n",
        "if feature == 'NDVI':\n",
        "    fileList = list(filePath.glob('*NDVI.tif'))\n",
        "if feature == 'EVI':\n",
        "    fileList = list(filePath.glob('*EVI.tif'))\n",
        "if feature == 'LST_Day':\n",
        "    fileList = list(filePath.glob('*LST_Day_1km.tif'))\n",
        "if feature == 'LST_Night':\n",
        "    fileList = list(filePath.glob('*LST_Night_1km.tif'))\n",
        "if feature == 'NO2':\n",
        "    fileList = list(filePath.glob('*tropospheric_NO2_column_number_density.tif'))\n",
        "if feature == 'SO2':\n",
        "    fileList = list(filePath.glob('*SO2_column_number_density.tif'))\n",
        "fileList.sort()\n",
        "fileList"
      ],
      "execution_count": 0,
      "outputs": []
    },
    {
      "cell_type": "markdown",
      "metadata": {
        "id": "9L5KdzODHb6l",
        "colab_type": "text"
      },
      "source": [
        "### 将 tif 文件转为 xarray 格式"
      ]
    },
    {
      "cell_type": "code",
      "metadata": {
        "id": "MkTSmKAWATn9",
        "colab_type": "code",
        "colab": {}
      },
      "source": [
        "# 建立空列表，后续用来存储值和时间\n",
        "all_val = []\n",
        "all_time = []\n",
        "\n",
        "for f in fileList[:]:\n",
        "    print(f)\n",
        "    # 先用 rasterio 读取 tif 文件的相关信息\n",
        "    dataset = rasterio.open(f)\n",
        "    # 1. 坐标范围信息\n",
        "    db = dataset.bounds\n",
        "    # 计算出格网的边缘点数\n",
        "    line_Lat = np.linspace(db.bottom, db.top, num=dataset.height + 1) # 加的 1 是边缘点， dataset.height 是格网数\n",
        "    line_Lon  = np.linspace(db.left, db.right, num=dataset.width + 1)\n",
        "    # 计算出格网的中心点坐标\n",
        "    center_Lat = (line_Lat[1:]+line_Lat[:-1])/2\n",
        "    center_Lon = (line_Lon[1:]+line_Lon[:-1])/2\n",
        "    # 2. 数值信息\n",
        "    if feature == 'NO2':\n",
        "        tmp_val = dataset.read(1) * 6.02214E+4 # 将mol/m2转为10^15 molec./cm2\n",
        "        tmp_val = np.where(tmp_val<=0,np.nan,tmp_val)\n",
        "    if feature == 'SO2':\n",
        "        tmp_val = dataset.read(1) * 6.02214E+4 # 将mol/m2转为10^15 molec./cm2\n",
        "        tmp_val = np.where(tmp_val<=0,np.nan,tmp_val)\n",
        "\n",
        "    if feature == 'NDVI':\n",
        "         tmp_val = dataset.read(1) * 0.0001\n",
        "         tmp_val = np.where(tmp_val==0,np.nan,tmp_val)\n",
        "\n",
        "    if feature == 'EVI':\n",
        "         tmp_val = dataset.read(1) * 0.0001\n",
        "         tmp_val = np.where(tmp_val==0,np.nan,tmp_val)\n",
        "         \n",
        "    if feature == 'LST_Day':\n",
        "         tmp_val = dataset.read(1) * 0.02\n",
        "         tmp_val = np.where(tmp_val==0,np.nan,tmp_val)\n",
        "\n",
        "    if feature == 'LST_Night':\n",
        "         tmp_val = dataset.read(1) * 0.02\n",
        "         tmp_val = np.where(tmp_val==0,np.nan,tmp_val)\n",
        "\n",
        "         \n",
        "\n",
        "    all_val.append(tmp_val)\n",
        "\n",
        "    tmp_time = f.stem.split('.')[0]\n",
        "    all_time.append(tmp_time)\n",
        "\n",
        "timeArray = pd.to_datetime(all_time, format='%Y-%m-%d') \n",
        "#%%\n",
        "ds = xr.Dataset( {\n",
        "    f'{feature}': (( 'time','latitude', 'longitude'), all_val),\n",
        "                 },\n",
        "    coords= { \n",
        "            'time':timeArray,\n",
        "            'latitude': center_Lat[::-1], \n",
        "            'longitude': center_Lon\n",
        "            }\n",
        "               )"
      ],
      "execution_count": 0,
      "outputs": []
    },
    {
      "cell_type": "markdown",
      "metadata": {
        "id": "PnOqSfTAHiLW",
        "colab_type": "text"
      },
      "source": [
        "### 检查数据并保存，若有需要可以重采样至需要的范围"
      ]
    },
    {
      "cell_type": "code",
      "metadata": {
        "id": "kJAhFRMuBAld",
        "colab_type": "code",
        "colab": {}
      },
      "source": [
        "ds[feature].isel(time=0).plot()"
      ],
      "execution_count": 0,
      "outputs": []
    },
    {
      "cell_type": "code",
      "metadata": {
        "id": "jdkJjGoaB9zK",
        "colab_type": "code",
        "colab": {}
      },
      "source": [
        "# 插值到统一的范围\n",
        "ds_i = ds.interp(longitude=np.array(range(450))*0.002 + 106.1,\\\n",
        "                 latitude=np.array(range(850))*0.002 + 37.1)\n",
        "ds_i.to_netcdf(filePath/(feature+'.nc'))"
      ],
      "execution_count": 0,
      "outputs": []
    },
    {
      "cell_type": "code",
      "metadata": {
        "id": "BJicOcThXVei",
        "colab_type": "code",
        "colab": {}
      },
      "source": [
        "!rm *.tif"
      ],
      "execution_count": 0,
      "outputs": []
    },
    {
      "cell_type": "code",
      "metadata": {
        "id": "PuivUJr58slo",
        "colab_type": "code",
        "colab": {}
      },
      "source": [
        ""
      ],
      "execution_count": 0,
      "outputs": []
    }
  ],
  "metadata": {
    "colab": {
      "name": "宁东.ipynb",
      "provenance": [],
      "collapsed_sections": [],
      "toc_visible": true
    },
    "kernelspec": {
      "name": "python3",
      "display_name": "Python 3"
    }
  },
  "nbformat": 4,
  "nbformat_minor": 0
}